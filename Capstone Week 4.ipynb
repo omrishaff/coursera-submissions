{
 "cells": [
  {
   "cell_type": "markdown",
   "metadata": {},
   "source": [
    "# Capstone Week 4"
   ]
  },
  {
   "cell_type": "markdown",
   "metadata": {},
   "source": [
    "In this project I will leverage the Foursquare API to segment neighborhoods in Tel-Aviv based on the average closing hour of recreational venues."
   ]
  },
  {
   "cell_type": "markdown",
   "metadata": {},
   "source": [
    "### Stakeholders"
   ]
  },
  {
   "cell_type": "markdown",
   "metadata": {},
   "source": [
    "Possible stakeholders include, for example:\n",
    "1. Tourists looking for a vibrant neighborhood to stay in\n",
    "2. Buyers seeking a place of residence and wishing for a quiet neighborhood which won't keep them up at night\n",
    "3. Entrepreneurs planning on opening a venue which will attract late-night activity and want to find an area in which potential customers will probably already be roaming the streets"
   ]
  },
  {
   "cell_type": "markdown",
   "metadata": {},
   "source": [
    "### Methodology\n"
   ]
  },
  {
   "cell_type": "markdown",
   "metadata": {},
   "source": [
    "I will look up recreational venues in each neighborhood of the city using the Foursquare \"Search for Venues\" API, and then make a specific API call for each venue to \"Get a Venue's Hours.\" I will process the revieced data to get the mean hour of closure for venues in each neighborhood, and also by each type of venue in each neighborhood. I will then perform a cluster analysis of the data, by both total mean and per-type mean, in each neighborhood, and see what signifiance is produced. I will finally present the results on a choropleth map which will help each of the stakeholders answer their relevant questions."
   ]
  },
  {
   "cell_type": "code",
   "execution_count": null,
   "metadata": {},
   "outputs": [],
   "source": []
  }
 ],
 "metadata": {
  "kernelspec": {
   "display_name": "Python 3",
   "language": "python",
   "name": "python3"
  },
  "language_info": {
   "codemirror_mode": {
    "name": "ipython",
    "version": 3
   },
   "file_extension": ".py",
   "mimetype": "text/x-python",
   "name": "python",
   "nbconvert_exporter": "python",
   "pygments_lexer": "ipython3",
   "version": "3.7.3"
  }
 },
 "nbformat": 4,
 "nbformat_minor": 2
}
